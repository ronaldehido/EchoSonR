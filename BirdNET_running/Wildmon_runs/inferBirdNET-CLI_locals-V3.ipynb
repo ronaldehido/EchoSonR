{
 "cells": [
  {
   "cell_type": "markdown",
   "id": "66bde019",
   "metadata": {},
   "source": [
    "# <img src=\"https://raw.githubusercontent.com/birdnet-team/BirdNET-Analyzer/refs/heads/main/docs/_static/birdnet_logo.png\" width=\"50\">**Inferencias con BirdNET-CLI sobre audios locales**\n",
    "## **Inferencia con modelos personalizados  y caso Wildmon V3 y FLAT SIGMOIDS**\n",
    "_versión 1.2 (2025-08-14)_\n",
    "\n",
    "\n",
    "\n",
    "### *Ron A. Fernández-Gómez - EPM SECIHTI* 🤓\n",
    "<img src=\"https://upload.wikimedia.org/wikipedia/commons/1/17/Logotipo_SECIHTI_2025-2030.svg\" width=\"200\">\n",
    "\n",
    "Este es un flujo de trabajo en Google Colab escrito en Python para ejecutar clasificadores personalizados basados en Redes Neuronales Convolucionales (CNNs) para detección y clasificación de vocalizaciones de fauna utilizando la herramienta BirdNET Analyzer para uso con Interfaz de línea de comando (CLI) y accediendo a archivos de audio alojados en Google Drive, Unidades Compartidas para trabajo colaborativo, asi como a partir de audios de otras fuentes locales.\n",
    "Para mayores detalles sobre BirdNET Analyzer y usos del proyecto BirdNET consultar: https://github.com/birdnet-team/BirdNET-Analyzer\n",
    "\n",
    "\n",
    "##### **_Comentarios sobre clasificador personalizado Wildmon V3_**\n",
    "La versión V3 del clasificador genera outputs que distribuyen los scores en un rango entre 0.5 y 0.7, para ampliar la distribución a toda la escala de los confidence scores, se evita la aplicación de la sigmoides sobre las predicciones. Para esto fue necesario modificar el codigo fuente por lo que el analizador utilizado es un repositorio clonado modificado.\n",
    "El cambio especifico para saltar las sigmoides se hizo en el archivo config.py aplicando el operador booleano False en el argumento APPLY_SIGMOID (https://github.com/birdnet-team/BirdNET-Analyzer/blob/main/birdnet_analyzer/config.py#L85)"
   ]
  },
  {
   "cell_type": "code",
   "execution_count": null,
   "id": "503b6795",
   "metadata": {},
   "outputs": [],
   "source": [
    "# paqueterias necesarias\n",
    "!pip install ffmpeg\n",
    "!pip install librosa\n",
    "!pip install resampy\n",
    "!pip install tensorflow==2.15.0\n",
    "!pip install keras-tuner"
   ]
  },
  {
   "cell_type": "code",
   "execution_count": null,
   "id": "4b633cbb",
   "metadata": {},
   "outputs": [],
   "source": [
    "#Rutas de entrada (directorio con tus audios) y salida (directorio de resultados)\n",
    "audio_path = r'/ruta/a/la/carpeta/de/archivos' # definir la ruta al directorio con los archivos de audio\n",
    "output_folder = r'/ruta/a/la/carpeta/donde/guardar/los/resultados' # definir la ruta al directorio donde se guardarán los resultados\n",
    "\n",
    "# establecer el nombre del sitio y/o muestreo\n",
    "site_name = 'nombre_del_sitio'  # <--- Cambia esto al nombre del sitio que estás analizando, por ejemplo, 'R405-202408'"
   ]
  },
  {
   "cell_type": "code",
   "execution_count": null,
   "id": "234884b4",
   "metadata": {},
   "outputs": [],
   "source": [
    "# modelo personalizado, una copia del modelo de WildMon V3 en el Model Zoo de EchoSonR\n",
    "my_model   = 'BirdNET_running/Model-Zoo/WildMon/Wildmon-V3/WildMon-20spp-V3.0_Model_FP32.tflite'  # <-- Ajustar según convenga"
   ]
  },
  {
   "cell_type": "code",
   "execution_count": null,
   "id": "1bf9815d",
   "metadata": {},
   "outputs": [],
   "source": [
    "# Parámetros BirdNET-Analyzer\n",
    "min_confidence   = 0.25   # <-- Ajustar según convenga\n",
    "threads          = 6      # <-- Ajustar según computador\n",
    "batch_size       = 4      # <-- Ajustar según computador\n",
    "\n",
    "# para usar otros parametros, revisar USAGE en el repositorio de BirdNET-Analyzer\n",
    "# https://birdnet-team.github.io/BirdNET-Analyzer/usage.html"
   ]
  },
  {
   "cell_type": "code",
   "execution_count": null,
   "id": "5ce5cbb7",
   "metadata": {},
   "outputs": [],
   "source": [
    "# definir directorio de trabajo\n",
    "# se direcciona al directorio donde se encuentra el repositorio de BirdNET-Analyzer modificado para WildMon V3\n",
    "%cd BirdNET_running\\BirdNET-repos\\BirdNET-Analyzer_Mod_runWMV3"
   ]
  },
  {
   "cell_type": "code",
   "execution_count": null,
   "id": "fefbe3f1",
   "metadata": {},
   "outputs": [],
   "source": [
    "# Ejecutar la inferencia con BirdNET-Analyzer CLI modificado para WildMon V3\n",
    "!python -m birdnet_analyzer.analyze \\\n",
    "        --output \"{output_folder}\" \\\n",
    "        --classifier \"{my_model}\" \\\n",
    "        --min_conf {min_confidence} \\\n",
    "        --threads {threads} \\\n",
    "        --b {batch_size} \\\n",
    "        --combine_results \\\n",
    "        \"{audio_path}\"\n",
    "\n",
    "# Mostrar detalles de la corrida\n",
    "import os\n",
    "\n",
    "print(\"\\n =======================================\")\n",
    "print(f\"MODELO USADO: {os.path.basename(my_model)}\")\n",
    "print(f\"Carpeta de resultados: {output_folder}\")\n",
    "print(f\"Sitio analizado: {site_name}\")\n",
    "print(f\"Valor de confianza mínimo: {min_confidence}\")"
   ]
  }
 ],
 "metadata": {
  "kernelspec": {
   "display_name": "scikit-maad",
   "language": "python",
   "name": "python3"
  },
  "language_info": {
   "codemirror_mode": {
    "name": "ipython",
    "version": 3
   },
   "file_extension": ".py",
   "mimetype": "text/x-python",
   "name": "python",
   "nbconvert_exporter": "python",
   "pygments_lexer": "ipython3",
   "version": "3.10.16"
  }
 },
 "nbformat": 4,
 "nbformat_minor": 5
}
